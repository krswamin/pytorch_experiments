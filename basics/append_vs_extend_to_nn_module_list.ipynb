{
 "cells": [
  {
   "cell_type": "markdown",
   "id": "a722b8b0-fc25-46c9-bbeb-96d92e2211b0",
   "metadata": {},
   "source": [
    "# Append to Neural Network Module List\n",
    "\n",
    "### append()\n",
    "To append to a nn.ModuleList in PyTorch, the append() method is used. This method adds a given module to the end of the list. \\\n",
    "\n",
    "### extend()\n",
    "It is also possible to extend a nn.ModuleList by using the extend() method, which takes an iterable of modules as input.\\\n",
    "\n",
    "### append() vs extend()\n",
    "For adding a single module, append() is generally faster. However, if you need to add multiple modules at once, extend() is more efficient than calling append() multiple times. The choice between them depends on whether you are adding modules individually or in batches.\\"
   ]
  },
  {
   "cell_type": "markdown",
   "id": "1e9e15d6-e8a0-4eef-82f9-f54afe608688",
   "metadata": {},
   "source": [
    "## append()"
   ]
  },
  {
   "cell_type": "code",
   "execution_count": null,
   "id": "ba4c33cf-8be9-463d-ae06-26a05e55de0d",
   "metadata": {},
   "outputs": [],
   "source": [
    "import torch.nn as nn\n",
    "\n",
    "# Initialize an empty nn.ModuleList\n",
    "module_list = nn.ModuleList()\n",
    "\n",
    "# Create some modules\n",
    "linear1 = nn.Linear(10, 20)\n",
    "conv1 = nn.Conv2d(3, 16, kernel_size=3)\n",
    "\n",
    "# Append the modules to the ModuleList\n",
    "module_list.append(linear1)\n",
    "module_list.append(conv1)\n",
    "\n",
    "# Verify the appended modules\n",
    "print(module_list)"
   ]
  },
  {
   "cell_type": "markdown",
   "id": "345f1d5e-862d-4857-8a9b-2bd6934ba867",
   "metadata": {},
   "source": [
    "## extend()"
   ]
  },
  {
   "cell_type": "code",
   "execution_count": null,
   "id": "581c8939-d335-44d8-9c87-c1fcd964bbb3",
   "metadata": {},
   "outputs": [],
   "source": [
    "# Create more modules\n",
    "linear2 = nn.Linear(20, 30)\n",
    "relu1 = nn.ReLU()\n",
    "\n",
    "# Extend the ModuleList with multiple modules\n",
    "module_list.extend([linear2, relu1])\n",
    "\n",
    "# Verify the extended ModuleList\n",
    "print(module_list)"
   ]
  }
 ],
 "metadata": {
  "kernelspec": {
   "display_name": "Python 3 (ipykernel)",
   "language": "python",
   "name": "python3"
  },
  "language_info": {
   "codemirror_mode": {
    "name": "ipython",
    "version": 3
   },
   "file_extension": ".py",
   "mimetype": "text/x-python",
   "name": "python",
   "nbconvert_exporter": "python",
   "pygments_lexer": "ipython3",
   "version": "3.12.3"
  }
 },
 "nbformat": 4,
 "nbformat_minor": 5
}
