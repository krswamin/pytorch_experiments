{
 "cells": [
  {
   "cell_type": "markdown",
   "id": "8182db2f-b0c7-45f2-b674-58b033830fbb",
   "metadata": {},
   "source": [
    "## Effect of Empty initializations after using ones, zeros and rand\n",
    "useful video: https://www.youtube.com/watch?v=OIenNRt2bjg"
   ]
  },
  {
   "cell_type": "code",
   "execution_count": null,
   "id": "c9264dbc-7463-48f9-8e19-5c660e57bf0a",
   "metadata": {},
   "outputs": [],
   "source": [
    "import torch"
   ]
  },
  {
   "cell_type": "code",
   "execution_count": null,
   "id": "893dae28-e1ba-493d-8f70-06ecaf37f390",
   "metadata": {},
   "outputs": [],
   "source": [
    "x = torch.empty(1)\n",
    "print(\"empty(1):\",x)\n",
    "\n",
    "x = torch.empty(4)\n",
    "print(\"empty(4):\",x)\n",
    "\n",
    "x = torch.empty(3,4)\n",
    "print(\"empty(3,4):\",x)\n",
    "\n",
    "x = torch.empty(3,4,5)\n",
    "print(\"empty(3,4,5):\",x)"
   ]
  },
  {
   "cell_type": "code",
   "execution_count": null,
   "id": "7d3560aa-1a11-433a-97a4-36a2e66e70b3",
   "metadata": {},
   "outputs": [],
   "source": [
    "x = torch.zeros(1)\n",
    "print(\"zeros(1):\",x)\n",
    "\n",
    "x = torch.zeros(4)\n",
    "print(\"zeros(4):\",x)\n",
    "\n",
    "x = torch.zeros(3,4)\n",
    "print(\"zeros(3,4):\",x)\n",
    "\n",
    "x = torch.zeros(3,4,5)\n",
    "print(\"zeros(3,4,5):\",x)"
   ]
  },
  {
   "cell_type": "code",
   "execution_count": null,
   "id": "0ca8ca0e-50b6-4e2f-adf7-e5f448eeb80b",
   "metadata": {},
   "outputs": [],
   "source": [
    "x = torch.empty(1)\n",
    "print(\"empty(1):\",x)\n",
    "\n",
    "x = torch.empty(4)\n",
    "print(\"empty(4):\",x)\n",
    "\n",
    "x = torch.empty(3,4)\n",
    "print(\"empty(3,4):\",x)\n",
    "\n",
    "x = torch.empty(3,4,5)\n",
    "print(\"empty(3,4,5):\",x)"
   ]
  },
  {
   "cell_type": "code",
   "execution_count": null,
   "id": "e27f590c-ba8b-472d-a41f-69ab32f42c4e",
   "metadata": {},
   "outputs": [],
   "source": [
    "x = torch.ones(1)\n",
    "print(\"ones(1):\",x)\n",
    "\n",
    "x = torch.ones(4)\n",
    "print(\"ones(4):\",x)\n",
    "\n",
    "x = torch.ones(3,4)\n",
    "print(\"ones(3,4):\",x)\n",
    "\n",
    "x = torch.ones(3,4,5)\n",
    "print(\"ones(3,4,5):\",x)"
   ]
  },
  {
   "cell_type": "code",
   "execution_count": null,
   "id": "47cd4921-70a5-4907-8b35-d40dafc2cc58",
   "metadata": {},
   "outputs": [],
   "source": [
    "x = torch.empty(1)\n",
    "print(\"empty(1):\",x)\n",
    "\n",
    "x = torch.empty(4)\n",
    "print(\"empty(4):\",x)\n",
    "\n",
    "x = torch.empty(3,4)\n",
    "print(\"empty(3,4):\",x)\n",
    "\n",
    "x = torch.empty(3,4,5)\n",
    "print(\"empty(3,4,5):\",x)"
   ]
  },
  {
   "cell_type": "code",
   "execution_count": null,
   "id": "ffea60a2-ec06-41c0-ba97-8d7dec3bb8cb",
   "metadata": {},
   "outputs": [],
   "source": [
    "x = torch.rand(1)\n",
    "print(\"rand(1):\",x)\n",
    "\n",
    "x = torch.rand(4)\n",
    "print(\"rand(4):\",x)\n",
    "\n",
    "x = torch.rand(3,4)\n",
    "print(\"rand(3,4):\",x)\n",
    "\n",
    "x = torch.rand(3,4,5)\n",
    "print(\"rand(3,4,5):\",x)"
   ]
  },
  {
   "cell_type": "code",
   "execution_count": null,
   "id": "71197fef-7345-46bb-9077-ae4ef0e857f7",
   "metadata": {},
   "outputs": [],
   "source": [
    "x = torch.empty(1)\n",
    "print(\"empty(1):\",x)\n",
    "\n",
    "x = torch.empty(4)\n",
    "print(\"empty(4):\",x)\n",
    "\n",
    "x = torch.empty(3,4)\n",
    "print(\"empty(3,4):\",x)\n",
    "\n",
    "x = torch.empty(3,4,5)\n",
    "print(\"empty(3,4,5):\",x)"
   ]
  },
  {
   "cell_type": "code",
   "execution_count": null,
   "id": "952ebf96-f216-47ba-910b-faa0f032cf02",
   "metadata": {},
   "outputs": [],
   "source": [
    "import numpy as np \n",
    "\n",
    "# Resize numpy\n",
    "a_np = np.array([[1,2,3],\n",
    "                 [4,5,6]])\n",
    "print(a_np)\n",
    "\n",
    "# Reshape does not support in place \n",
    "a_np = a_np.reshape((-1,2))\n",
    "print(a_np)\n",
    "\n",
    "# Resize tensor\n",
    "print(\"-----------------------\")\n",
    "a_tensor = torch.tensor([1,2,3,4,5,6,7,8])\n",
    "print(a_tensor)\n",
    "b_tensor = a_tensor.view(4,-1)\n",
    "print(a_tensor)\n",
    "print(b_tensor)"
   ]
  }
 ],
 "metadata": {
  "kernelspec": {
   "display_name": "Python 3 (ipykernel)",
   "language": "python",
   "name": "python3"
  },
  "language_info": {
   "codemirror_mode": {
    "name": "ipython",
    "version": 3
   },
   "file_extension": ".py",
   "mimetype": "text/x-python",
   "name": "python",
   "nbconvert_exporter": "python",
   "pygments_lexer": "ipython3",
   "version": "3.12.3"
  }
 },
 "nbformat": 4,
 "nbformat_minor": 5
}
