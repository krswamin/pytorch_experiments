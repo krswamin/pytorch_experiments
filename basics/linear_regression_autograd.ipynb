{
 "cells": [
  {
   "cell_type": "markdown",
   "id": "ad535a3a-8300-4336-a68e-a3e073c8fcfb",
   "metadata": {},
   "source": [
    "# Linear Regression: with Autograd"
   ]
  },
  {
   "cell_type": "code",
   "execution_count": null,
   "id": "3d94fb56-a480-4215-962e-f380e9cf4178",
   "metadata": {},
   "outputs": [],
   "source": [
    "import torch\n",
    "\n",
    "# Linear Regression \n",
    "# f = w*x +b \n",
    "\n",
    "X = torch.tensor([1,2,3,4,5,6,7,8], dtype = torch.float32)\n",
    "Y = torch.tensor([2,4,6,8,10,12,14,16], dtype = torch.float32)\n",
    "\n",
    "w = torch.tensor(0.0, dtype= torch.float32, requires_grad=True)\n",
    "\n",
    "# Model defintion output\n",
    "def forward(x):\n",
    "    return w*x\n",
    "\n",
    "# Model Loss: MSE\n",
    "def loss(y, y_pred):\n",
    "    return ((y_pred-y)**2).mean()\n",
    "\n",
    "X_test = 5.0\n",
    "\n",
    "print(f'Prediction before training: f({X_test}) = {forward(X_test).item():.3f}')\n",
    "\n",
    "# Training\n",
    "learning_rate = 0.01\n",
    "n_epochs = 100\n",
    "\n",
    "for epoch in range(n_epochs):\n",
    "    # predict = forward_pass\n",
    "    y_pred = forward(X)\n",
    "\n",
    "    # loss (in the future you can use a \n",
    "    l = loss(Y, y_pred)\n",
    "\n",
    "    # calculate gradients = backward pass\n",
    "    # With this step the weight \"w\" get a gradient\n",
    "    l.backward()\n",
    "\n",
    "    # update weights \n",
    "    # ( in the future you can use a BUILT IN OPTIMIZER)\n",
    "    # w.data = w.data -learning_rate * w.grad\n",
    "    with torch.no_grad(): # because we dont want to track this operation. Why ?\n",
    "        w -= learning_rate *w.grad\n",
    "\n",
    "    # after updating the weights, zero the gradients before the next iteration\n",
    "    w.grad.zero_()\n",
    "\n",
    "    if (epoch+1) % 10 ==0:\n",
    "        print(f'epoch {epoch+1}: w = {w.item():.3f}, loss = {l.item():.3f}')\n",
    "        \n",
    "        \n",
    "print(f'Prediction after training: f({X_test}) = {forward(X_test).item():.3f}')"
   ]
  }
 ],
 "metadata": {
  "kernelspec": {
   "display_name": "Python 3 (ipykernel)",
   "language": "python",
   "name": "python3"
  },
  "language_info": {
   "codemirror_mode": {
    "name": "ipython",
    "version": 3
   },
   "file_extension": ".py",
   "mimetype": "text/x-python",
   "name": "python",
   "nbconvert_exporter": "python",
   "pygments_lexer": "ipython3",
   "version": "3.12.3"
  }
 },
 "nbformat": 4,
 "nbformat_minor": 5
}
