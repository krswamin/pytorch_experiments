{
 "cells": [
  {
   "cell_type": "markdown",
   "id": "f78a01a9-2b2e-46cf-a962-39bb77fceedc",
   "metadata": {},
   "source": [
    "## Tensors : CPU, GPU, numpy, cupy\n",
    "useful video: https://www.youtube.com/watch?v=OIenNRt2bjg"
   ]
  },
  {
   "cell_type": "code",
   "execution_count": null,
   "id": "a57249ee-8c31-4417-a0fc-e997232bc572",
   "metadata": {},
   "outputs": [],
   "source": [
    "import torch\n",
    "import numpy as np"
   ]
  },
  {
   "cell_type": "code",
   "execution_count": null,
   "id": "dee11e16-d304-4242-b07f-16aa5c575df0",
   "metadata": {},
   "outputs": [],
   "source": [
    "# Numpy array\n",
    "np_a = np.array([[1,3,5,7],\n",
    "              [10,30,50,70]])\n",
    "print(f\" np_a: {np_a} \\n np_a.size: {np_a.size} \\n np_a.shape: {np_a.shape} \\n np_a.dtype: {np_a.dtype}\")"
   ]
  },
  {
   "cell_type": "code",
   "execution_count": null,
   "id": "5ecfbeb2-0180-4cc4-b5b5-822e0a55a37a",
   "metadata": {},
   "outputs": [],
   "source": [
    "# Tensor from numpy and then modify the numpy array ( reinitialize)\n",
    "\n",
    "tensor_a = torch.from_numpy(np_a)\n",
    "print(f\"np_a : {np_a}\")\n",
    "print(f\"tensor_a : {tensor_a}\")\n",
    "\n",
    "print(\"\\n-------- CPU: np_a reinitialized , tensor from numpy not modified-------\")\n",
    "np_a = np.array([[1,3,5,7],\n",
    "                [10,30,50,700]])\n",
    "print(f\"np_a : {np_a}\")\n",
    "print(f\"tensor_a : {tensor_a}\")"
   ]
  },
  {
   "cell_type": "code",
   "execution_count": null,
   "id": "571a8209-a820-4472-bd48-db3663a87a6f",
   "metadata": {},
   "outputs": [],
   "source": [
    "# Tensor from numpy and then modify the numpy array (not in place addition)\n",
    "\n",
    "np_a = np.array([[1,3,5,7],\n",
    "              [10,30,50,70]])\n",
    "print(f\"np_a: {np_a}\")\n",
    "\n",
    "np_b = np.ones((2,4))\n",
    "print(f\"\\nnp_b: {np_b}\")\n",
    "\n",
    "tensor_a = torch.from_numpy(np_a)\n",
    "print(f\"\\nnp_a : {np_a}\")\n",
    "print(f\"tensor_a : {tensor_a}\")\n",
    "\n",
    "print(\"\\n-------- CPU: np_a modified(not in place addition), tensor from numpy not modified -------\")\n",
    "np_a = np_a + np_b\n",
    "print(f\"\\nnp_a : {np_a}\")\n",
    "print(f\"tensor_a : {tensor_a}\")"
   ]
  },
  {
   "cell_type": "markdown",
   "id": "8528cdf1-c325-4c56-857e-51e5635ba183",
   "metadata": {},
   "source": [
    "## GPU vs CPU deployment: Exercise 1\n",
    "Create tensor from numpy array. Modify numpy array and see what happens to tensor\n",
    "Deploy the tensor on "
   ]
  },
  {
   "cell_type": "code",
   "execution_count": null,
   "id": "2ead6c4b-ad3b-45a0-b95b-acc6e7d8fe26",
   "metadata": {},
   "outputs": [],
   "source": [
    "print (\" ----- CPU OPERATIONS ---------------\")\n",
    "# Tensor from numpy and then modify the numpy array (in place addition)\n",
    "np_a = np.array([[1,3,5,7],\n",
    "              [10,30,50,70]], dtype=np.float64)\n",
    "print(f\"np_a: {np_a},\\n np_a.dtype: {np_a.dtype}\")\n",
    "\n",
    "np_b = np.ones((2,4), dtype=np.float64)\n",
    "print(f\"\\nnp_b: {np_b},\\n np_b.dtype: {np_b.dtype}\")\n",
    "\n",
    "tensor_a = torch.from_numpy(np_a)\n",
    "print(f\"\\nnp_a : {np_a}\")\n",
    "print(f\"tensor_a : {tensor_a}\")\n",
    "\n",
    "print(\"\\n-------- CPU: np_a modified(in place addition), tensor from numpy MODIFIED -------\")\n",
    "np_a += np_b\n",
    "print(f\"\\nnp_a : {np_a}\")\n",
    "print(f\"tensor_a : {tensor_a}\")\n",
    "\n",
    "\n",
    "print(\"============================GPU OPERATIONS====================================================\")\n",
    "# Deploy tensors on gpu and see what happens when you modify \n",
    "# Note by default numpy does not support GPU , only support cpu. Use Cupy for GPU support\n",
    "\n",
    "# Tensor from numpy and then modify the numpy array (in place addition)\n",
    "np_a = np.array([[1,3,5,7],\n",
    "              [10,30,50,70]], dtype=np.float64)\n",
    "print(f\"np_a: {np_a},\\n np_a.dtype: {np_a.dtype}\")\n",
    "\n",
    "np_b = np.ones((2,4), dtype=np.float64)\n",
    "print(f\"\\nnp_b: {np_b},\\n np_b.dtype: {np_b.dtype}\")\n",
    "\n",
    "# Deploy sensor on gpu\n",
    "tensor_a = torch.tensor(np_a, device=torch.device('cuda'))\n",
    "print(f\"\\nnp_a : {np_a}\")\n",
    "print(f\"tensor_a : {tensor_a}\")\n",
    "\n",
    "print(\"\\n-------- GPU: np_a modified(in place addition), tensor from numpy deployed onto GPU (tensor doe not get MODIFIED) -------\")\n",
    "np_a += np_b\n",
    "print(f\"\\nnp_a : {np_a}\")\n",
    "print(f\"tensor_a : {tensor_a}\")"
   ]
  },
  {
   "cell_type": "markdown",
   "id": "61c3f576-a6c4-4bee-8e30-f707e88e9877",
   "metadata": {},
   "source": [
    "## GPU vs CPU deployment: Exercise 2\n",
    "Create numpy array from tensor. Modify tensor and see what happens to numpy array\n",
    "Create tensor on cpu and gpu and modify it"
   ]
  },
  {
   "cell_type": "code",
   "execution_count": null,
   "id": "8bb174b9-4ece-4f42-9d1b-3a17df1441f6",
   "metadata": {},
   "outputs": [],
   "source": [
    "print (\" ----- CPU OPERATIONS ---------------\")\n",
    "\n",
    "# Create a PyTorch tensor\n",
    "tensor_a = torch.tensor([[1, 2, 3], [4, 5, 6]])\n",
    "\n",
    "# Convert the tensor to a NumPy array using .numpy()\n",
    "np_a = tensor_a.numpy()\n",
    "\n",
    "# Print the NumPy array and tensor\n",
    "print(f\"tensor_a : {tensor_a}\")\n",
    "print(f\"np_a : {np_a}\")\n",
    "\n",
    "print(\"\\n Modify tensor and see what happens to numpy\")\n",
    "# Modify tensor and see what happens to numpy\n",
    "tensor_a[0,1] = 273\n",
    "print(f\"tensor_a : {tensor_a}\")\n",
    "print(f\"np_a : {np_a}\")\n",
    "\n",
    "\n",
    "print(\"\\n \\n ============================GPU OPERATIONS====================================================\")\n",
    "# Create a PyTorch tensor\n",
    "tensor_gpu_a = torch.tensor([[1, 2, 3], [4, 5, 6]], device=torch.device('cuda'))\n",
    "tensor_cpu_a = tensor_gpu_a.cpu()\n",
    "# Convert the tensor to a NumPy array using .numpy()\n",
    "np_a = tensor_cpu_a.numpy()\n",
    "\n",
    "# Print the NumPy array and tensor\n",
    "print(f\"tensor_gpu_a : {tensor_gpu_a}\")\n",
    "print(f\"tensor_cpu_a : {tensor_cpu_a}\")\n",
    "print(f\"np_a : {np_a}\")\n",
    "\n",
    "print(\"\\nModify tensor and see what happens to numpy\")\n",
    "# Modify tensor and see what happens to numpy\n",
    "tensor_gpu_a[0,1] = 273\n",
    "print(f\"tensor_gpu_a : {tensor_gpu_a}\")\n",
    "print(f\"tensor_cpu_a : {tensor_cpu_a}\")\n",
    "print(f\"np_a : {np_a}\")\n",
    "\n",
    "\n"
   ]
  },
  {
   "cell_type": "markdown",
   "id": "3d93bfb0-efdd-4bb5-8c98-d212657f1340",
   "metadata": {},
   "source": [
    "## GPU vs CPU deployment: Exercise 3\n",
    "Create cupy array from tensor. Modify tensor and see what happens to cupy array\n",
    "Create tensor on cpu and gpu and modify it\n",
    "\n",
    "NOTE: Cupy arrays are created on the GPU by defualt"
   ]
  },
  {
   "cell_type": "code",
   "execution_count": null,
   "id": "6334f210-a46f-420a-8265-ad24d33a17d7",
   "metadata": {},
   "outputs": [],
   "source": [
    "import cupy\n",
    "\n",
    "print(\"\\n \\n ============================Tensor on CPU , Cupy array on GPU ====================================================\")\n",
    "# Create a PyTorch tensor\n",
    "tensor_gpu_a = torch.tensor([[10, 20, 30], [40, 50, 60]])\n",
    "# Convert the tensor to a cupy array \n",
    "cupy_a = cupy.asarray(tensor_gpu_a)\n",
    "\n",
    "# Print the NumPy array and tensor\n",
    "print(f\"tensor_gpu_a : {tensor_gpu_a}\")\n",
    "print(f\"cupy_a : {cupy_a}\")\n",
    "\n",
    "print(\"\\nModify tensor and see what happens to cupy\")\n",
    "# Modify tensor and see what happens to numpy\n",
    "tensor_gpu_a[0,1] = 323\n",
    "print(f\"tensor_gpu_a : {tensor_gpu_a}\")\n",
    "print(f\"cupy_a : {cupy_a}\")\n",
    "\n",
    "\n",
    "print(\"\\n \\n ============================Tensor and Cupy both on GPU ====================================================\")\n",
    "# Create a PyTorch tensor\n",
    "tensor_gpu_a = torch.tensor([[10, 20, 30], [40, 50, 60]], device=torch.device('cuda'))\n",
    "# Convert the tensor to a cupy array \n",
    "cupy_a = cupy.asarray(tensor_gpu_a)\n",
    "\n",
    "# Print the NumPy array and tensor\n",
    "print(f\"tensor_gpu_a : {tensor_gpu_a}\")\n",
    "print(f\"cupy_a : {cupy_a}\")\n",
    "\n",
    "print(\"\\nModify tensor and see what happens to cupy\")\n",
    "# Modify tensor and see what happens to numpy\n",
    "tensor_gpu_a[0,1] = 323\n",
    "print(f\"tensor_gpu_a : {tensor_gpu_a}\")\n",
    "print(f\"cupy_a : {cupy_a}\")\n",
    "\n",
    "\n"
   ]
  }
 ],
 "metadata": {
  "kernelspec": {
   "display_name": "Python 3 (ipykernel)",
   "language": "python",
   "name": "python3"
  },
  "language_info": {
   "codemirror_mode": {
    "name": "ipython",
    "version": 3
   },
   "file_extension": ".py",
   "mimetype": "text/x-python",
   "name": "python",
   "nbconvert_exporter": "python",
   "pygments_lexer": "ipython3",
   "version": "3.12.3"
  }
 },
 "nbformat": 4,
 "nbformat_minor": 5
}
