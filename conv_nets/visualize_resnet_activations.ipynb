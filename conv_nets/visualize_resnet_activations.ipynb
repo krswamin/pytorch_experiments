{
 "cells": [
  {
   "cell_type": "markdown",
   "id": "2e06ab01-0040-4045-add0-121f68ca1e78",
   "metadata": {},
   "source": [
    "# Visualize Convolutional neural net : RESNET activations\n",
    "courtesy chat gpt"
   ]
  },
  {
   "cell_type": "markdown",
   "id": "116a9e53-3f81-4171-aa18-f9d0443471e5",
   "metadata": {},
   "source": [
    "## ✅ 1. Define Your Model\n",
    "You can use a pretrained model or your custom model. Here's an example using a pretrained ResNet18."
   ]
  },
  {
   "cell_type": "code",
   "execution_count": null,
   "id": "00ce3e31-adeb-45cf-b9da-df53f13c2081",
   "metadata": {},
   "outputs": [],
   "source": [
    "import torchvision.models as models\n",
    "import torch.nn as nn\n",
    "\n",
    "model = models.resnet18(pretrained=True)\n",
    "model.eval()"
   ]
  },
  {
   "cell_type": "markdown",
   "id": "65695573-7a4d-4bd8-a785-2fa07281c19d",
   "metadata": {},
   "source": [
    "## ✅ 2. Hook to Extract Activations\n",
    "You can register forward hooks to layers you’re interested in"
   ]
  },
  {
   "cell_type": "code",
   "execution_count": null,
   "id": "753eb544-bc43-45d1-b376-8d29bd893718",
   "metadata": {},
   "outputs": [],
   "source": [
    "activations = {}\n",
    "\n",
    "def get_activation(name):\n",
    "    def hook(model, input, output):\n",
    "        activations[name] = output.detach()\n",
    "    return hook\n",
    "\n",
    "# Register hook on the first conv layer\n",
    "model.conv1.register_forward_hook(get_activation('conv1'))"
   ]
  },
  {
   "cell_type": "markdown",
   "id": "caae1937-0b4c-47ab-b4a8-eef01279ddf6",
   "metadata": {},
   "source": [
    "## ✅ 3. Prepare an Input Image"
   ]
  },
  {
   "cell_type": "code",
   "execution_count": null,
   "id": "fdde5233-d2c3-43cc-9fc6-f6b438519868",
   "metadata": {},
   "outputs": [],
   "source": [
    "from torchvision import transforms\n",
    "from PIL import Image\n",
    "import torch\n",
    "\n",
    "# Load and preprocess image\n",
    "img = Image.open('cars.jpeg')  # Path to an image\n",
    "transform = transforms.Compose([\n",
    "    transforms.Resize((224, 224)),\n",
    "    transforms.ToTensor(),\n",
    "])\n",
    "input_tensor = transform(img).unsqueeze(0)  # Add batch dimension"
   ]
  },
  {
   "cell_type": "markdown",
   "id": "07e0fd2b-d3d6-4608-83a2-522b4d46ad72",
   "metadata": {},
   "source": [
    "## ✅ 4. Forward Pass"
   ]
  },
  {
   "cell_type": "code",
   "execution_count": null,
   "id": "5b126ea4-3691-499c-877d-ca35e046ae43",
   "metadata": {},
   "outputs": [],
   "source": [
    "output = model(input_tensor)"
   ]
  },
  {
   "cell_type": "markdown",
   "id": "b712f46e-aa35-4ba0-abb5-bbdb1a1fc340",
   "metadata": {},
   "source": [
    "Now, activations['conv1'] contains the output of the first conv layer.\n",
    "## ✅ 5. Visualize Activations"
   ]
  },
  {
   "cell_type": "code",
   "execution_count": null,
   "id": "94f3904c-1ce8-4f63-94f5-b0eea3c5a049",
   "metadata": {},
   "outputs": [],
   "source": [
    "import matplotlib.pyplot as plt\n",
    "\n",
    "# Visualize first 8 feature maps\n",
    "act = activations['conv1'].squeeze()  # remove batch dim\n",
    "fig, axes = plt.subplots(1, 8, figsize=(20, 5))\n",
    "for idx in range(8):\n",
    "    axes[idx].imshow(act[idx].cpu(), cmap='viridis')\n",
    "    axes[idx].axis('off')\n",
    "plt.show()"
   ]
  },
  {
   "cell_type": "markdown",
   "id": "749cb7e5-8ea5-414a-b252-7cdcb688ec87",
   "metadata": {},
   "source": [
    "## ✨ Optional: Hook Multiple Layers\n",
    "You can register hooks on multiple layers (e.g., all Conv2d layers):"
   ]
  },
  {
   "cell_type": "code",
   "execution_count": null,
   "id": "f7bf09e1-fe11-4d8e-8191-93a69147cfe6",
   "metadata": {},
   "outputs": [],
   "source": [
    "for name, layer in model.named_modules():\n",
    "    if isinstance(layer, nn.Conv2d):\n",
    "        layer.register_forward_hook(get_activation(name))"
   ]
  }
 ],
 "metadata": {
  "kernelspec": {
   "display_name": "Python 3 (ipykernel)",
   "language": "python",
   "name": "python3"
  },
  "language_info": {
   "codemirror_mode": {
    "name": "ipython",
    "version": 3
   },
   "file_extension": ".py",
   "mimetype": "text/x-python",
   "name": "python",
   "nbconvert_exporter": "python",
   "pygments_lexer": "ipython3",
   "version": "3.12.3"
  }
 },
 "nbformat": 4,
 "nbformat_minor": 5
}
