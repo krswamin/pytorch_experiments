{
 "cells": [
  {
   "cell_type": "markdown",
   "id": "7d06320e-5a89-454d-996f-ab651afb57f6",
   "metadata": {},
   "source": [
    "## Various Resnets\n",
    "Implementation of resnet and layer names\n",
    "https://medium.com/analytics-vidhya/resnet-understand-and-implement-from-scratch-d0eb9725e0db\n",
    "\n",
    "### Layer names. In resnet 101 what is resnet4b22\n",
    "Answer: This is the last layer of the 4th stage. It has 1024 output channels. \\\n",
    "The naming rule of ResNet as follows:\n",
    "stage 2 and stage 5 both have 3 layers, so they are named as ‘a’, ‘b’, and ‘c’.\n",
    "stage 3 and stage 4 has more than 3 layers. And there are clear differences between the first layer and rest layers of those two stages. So, their first layer is named as ‘a’, and rest layers are all 'b’s. In order to differentiate those 'b’s, they are named as ‘b1’, ‘b2’, and so on. Hence, for ResNet-101, stage 4 has 23 layers. They are one ‘a’ layer and 22 ‘b’ layers, ranging from ‘b1’ to ‘b22’. \\ \n",
    "Hence renset4b22 is the last layer of the 4th stage. \\ \n",
    "https://discuss.pytorch.org/t/what-is-the-corresponding-part-of-resnet101s-res4b22-in-torchvisions-pretrained-model/24263/2\n",
    "\n",
    "Note: Various sources/ blogs refer to the stage numbers differently. See the original resnet layer names in the original paper and in this blog. \\\n",
    "https://medium.com/analytics-vidhya/resnet-understand-and-implement-from-scratch-d0eb9725e0db\n",
    "\n",
    "### Residual blocks and vanishing gradient problem\n",
    "Note: In this blog the stage numbers could be wrong/ one less than actual stage number in the original resnet paper\n",
    "\n",
    "https://cv-tricks.com/keras/understand-implement-resnets/#:~:text=There%20are%20many%20variants%20of,164%2C%20ResNet%2D1202%20etc.\n",
    "\n"
   ]
  },
  {
   "cell_type": "code",
   "execution_count": null,
   "id": "ae178557-2cc0-4fa9-ac9d-cc7ef7f7aec5",
   "metadata": {},
   "outputs": [],
   "source": [
    "import torchvision.models as models\n",
    "import torch.nn as nn"
   ]
  },
  {
   "cell_type": "code",
   "execution_count": null,
   "id": "b2a60d7e-6457-45c5-9b91-156e6e4bebd2",
   "metadata": {},
   "outputs": [],
   "source": [
    "resnet_model18 = models.resnet18(pretrained=True)\n",
    "resnet_model18.eval()"
   ]
  },
  {
   "cell_type": "code",
   "execution_count": null,
   "id": "438adc96-62a2-44f9-b4b2-1718d92c3a2b",
   "metadata": {},
   "outputs": [],
   "source": [
    "resnet_model34 = models.resnet34(pretrained=True)\n",
    "resnet_model34.eval()"
   ]
  },
  {
   "cell_type": "code",
   "execution_count": null,
   "id": "d84e13a2-7113-4ed2-b38b-2dc19e34868a",
   "metadata": {},
   "outputs": [],
   "source": [
    "resnet_model50 = models.resnet50(pretrained=True)\n",
    "resnet_model50.eval()\n",
    "\n",
    "\n",
    "# Using children()\n",
    "print(\"-------------------Children: list first 4---------------------------------:\")\n",
    "print(list(resnet_model50.children())[:4])\n",
    "\n",
    "print(\"\\n-------------------Children: *list first 4: unpack iterables---------------------------------:\")\n",
    "print(*list(resnet_model50.children())[:4])\n",
    "\n",
    "print(\"\\n--------- initial ---------------------------:\")\n",
    "initial = nn.Sequential(*list(resnet_model50.children())[:4])\n",
    "print(initial)"
   ]
  },
  {
   "cell_type": "code",
   "execution_count": null,
   "id": "37cad7c3-6524-4884-b3c8-410003369dc3",
   "metadata": {},
   "outputs": [],
   "source": [
    "# Using children()\n",
    "print(\"-------------------Children---------------------------------:\")\n",
    "for child in resnet_model50.children():\n",
    "    print(child)\n"
   ]
  },
  {
   "cell_type": "code",
   "execution_count": null,
   "id": "eb2d3ec7-aa79-4ef7-bbdc-0e0e8ab0eeaa",
   "metadata": {},
   "outputs": [],
   "source": [
    "# Using modules()\n",
    "print(\"\\n---------------------------Modules-----------------------:\")\n",
    "for module in resnet_model50.modules():\n",
    "    print(module)"
   ]
  },
  {
   "cell_type": "code",
   "execution_count": null,
   "id": "f2536d57-e2f4-4d5d-9082-3fac5181d023",
   "metadata": {},
   "outputs": [],
   "source": [
    "print(\"\\n---------------------------Named Modules-----------------------:\")\n",
    "for layer, module_type in resnet_model50.named_modules():\n",
    "    print(f\"Layer: {layer}, Module Type: {type(module_type).__name__}\")"
   ]
  },
  {
   "cell_type": "code",
   "execution_count": null,
   "id": "45978144-303b-4676-aaf1-e3d48711b1ba",
   "metadata": {},
   "outputs": [],
   "source": [
    "resnet_model101 = models.resnet101(pretrained=True)\n",
    "resnet_model101.eval()"
   ]
  },
  {
   "cell_type": "code",
   "execution_count": null,
   "id": "6bb84f5a-0bea-4dd9-b542-39ddea3878e6",
   "metadata": {},
   "outputs": [],
   "source": [
    "resnet_model152 = models.resnet152(pretrained=True)\n",
    "resnet_model152.eval()"
   ]
  }
 ],
 "metadata": {
  "kernelspec": {
   "display_name": "Python 3 (ipykernel)",
   "language": "python",
   "name": "python3"
  },
  "language_info": {
   "codemirror_mode": {
    "name": "ipython",
    "version": 3
   },
   "file_extension": ".py",
   "mimetype": "text/x-python",
   "name": "python",
   "nbconvert_exporter": "python",
   "pygments_lexer": "ipython3",
   "version": "3.12.3"
  }
 },
 "nbformat": 4,
 "nbformat_minor": 5
}
